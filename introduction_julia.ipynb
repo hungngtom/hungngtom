{
  "cells": [
    {
      "cell_type": "markdown",
      "metadata": {
        "id": "view-in-github",
        "colab_type": "text"
      },
      "source": [
        "<a href=\"https://colab.research.google.com/github/hungngtom/hungngtom/blob/main/introduction_julia.ipynb\" target=\"_parent\"><img src=\"https://colab.research.google.com/assets/colab-badge.svg\" alt=\"Open In Colab\"/></a>"
      ]
    },
    {
      "cell_type": "markdown",
      "id": "13d77a2c",
      "metadata": {
        "id": "13d77a2c"
      },
      "source": [
        "# A brief introduction to Julia\n",
        "Alexis Montoison, Valentin Churavy, Mosè Giordano"
      ]
    },
    {
      "cell_type": "code",
      "source": [
        "import Pkg\n",
        "Pkg.activate(\"colab1\")"
      ],
      "metadata": {
        "id": "fJPdLoFQQYxh",
        "outputId": "b7a45806-1f29-4fd3-aabf-7426b86094c6",
        "colab": {
          "base_uri": "https://localhost:8080/"
        }
      },
      "id": "fJPdLoFQQYxh",
      "execution_count": null,
      "outputs": [
        {
          "output_type": "stream",
          "name": "stderr",
          "text": [
            "\u001b[32m\u001b[1m  Activating\u001b[22m\u001b[39m new project at `/content/colab1`\n"
          ]
        }
      ]
    },
    {
      "cell_type": "markdown",
      "id": "e9ec7c9c",
      "metadata": {
        "id": "e9ec7c9c"
      },
      "source": [
        "## What's Julia? 🟢 🟣 🔴\n",
        "\n",
        "Julia is a modern, dynamic, general-purpose, compiled programming language.\n",
        "It's interactive (\"like Python\"), can be used in a REPL or notebooks, like Jupyter (it's the \"Ju\").\n",
        "Julia has a runtime which includes a just-in-time (JIT) compiler and a garbage collector (GC), for automatic memory management.\n",
        "\n",
        "Julia is mainly used for technical computing, and addresses a gap in the programming language landscape for numerical computing.\n",
        "\n",
        "\n",
        "Main paradigm of Julia is multiple dispatch, what functions do depend on type and number of _all_ arguments."
      ]
    },
    {
      "cell_type": "markdown",
      "id": "49561670",
      "metadata": {
        "id": "49561670"
      },
      "source": [
        "From \"[My Target Audience](https://scientificcoder.com/my-target-audience)\" by Matthijs Cox:\n",
        "\n",
        " <img src=\"https://github.com/amontoison/Workshop-GERAD/blob/main/Graphics/why_julia1.png?raw=1\" width=600px>\n",
        " <img src=\"https://github.com/amontoison/Workshop-GERAD/blob/main/Graphics/why_julia2.png?raw=1\" width=600px>"
      ]
    },
    {
      "cell_type": "markdown",
      "id": "667330bf",
      "metadata": {
        "id": "667330bf"
      },
      "source": [
        "## What is the 2 language problem?\n",
        "\n",
        "You start out prototyping in one language (high-level, dynamic), but performance forces you to switch to a different one (low-level, static).\n",
        "\n",
        "- For convinience use a scripting language (Python, R, Matlab, ...)\n",
        "- but do all the hard stuff in a systems language (C, C++, Fortran)\n",
        "\n",
        "Pragmatic for many applications, but has drawbacks\n",
        "\n",
        "- aren't the hard parts exactly where you need an easier language\n",
        "- creates a social barrier -- a wall between users and developers\n",
        "- \"sandwich problem\" -- layering of system and user code is expensive\n",
        "- prohibits full stack optimisations"
      ]
    },
    {
      "cell_type": "markdown",
      "id": "dee25ee3",
      "metadata": {
        "id": "dee25ee3"
      },
      "source": [
        "## Why Julia? 😍\n",
        "\n",
        "* Easy to read and write\n",
        "* Fast like C, but simple like Python\n",
        "* Works well with your own data and functions\n",
        "* Lets you write code that looks like the math you mean\n",
        "* No need to switch languages for performance...\n",
        "* ...but you can still call Fortran / C-like shared libraries if you want to\n",
        "* MIT licensed: free and open source\n",
        "* Excellent native GPU computing support"
      ]
    },
    {
      "cell_type": "markdown",
      "id": "81f70bf1",
      "metadata": {
        "id": "81f70bf1"
      },
      "source": [
        "## Getting started with Julia\n",
        "\n",
        "[Modern Julia Workflows](https://modernjuliaworkflows.org/) is an excellent resource to get started with.\n",
        "\n",
        "#### Installation\n",
        "\n",
        "Use `juliaup`\n",
        "```shell\n",
        "curl -fsSL https://install.julialang.org | sh\n",
        "```\n",
        "\n",
        "##### Resources\n",
        "\n",
        "- Modern Julia Workflows: [https://modernjuliaworkflows.org](https://modernjuliaworkflows.org)\n",
        "- Discourse: [https://discourse.julialang.org](https://discourse.julialang.org)\n",
        "- Documentation: [https://docs.julialang.org](https://docs.julialang.org)\n",
        "- Community Calendar: [https://julialang.org/community/#events](https://julialang.org/community/#events)"
      ]
    },
    {
      "cell_type": "markdown",
      "id": "b0e4dfb0",
      "metadata": {
        "id": "b0e4dfb0"
      },
      "source": [
        "## Package manager\n",
        "\n",
        "One package manager, provided together with the language.\n",
        "\n",
        "- Native notion of \"environment\"\n",
        "- `Project.toml`: Describes the dependencies and compatibilities\n",
        "- `Manifest.toml`: Record of precise versions of all direct & indirect dependencies\n",
        "\n",
        " <img src=\"https://github.com/amontoison/Workshop-GERAD/blob/main/Graphics/pkg_python.png?raw=1\" width=500px>"
      ]
    },
    {
      "cell_type": "markdown",
      "id": "b1a1426d",
      "metadata": {
        "id": "b1a1426d"
      },
      "source": [
        "### Binaries included\n",
        "\n",
        "Major usability pain points of modern languages is the integration of dependencies from Fortran/C/C++, reliably across multiple operating systems.\n",
        "\n",
        "Julia provides JLL packages that wrap binaries, and automatically install the **right** one for your current platforms.\n",
        "\n",
        "- Binarybuilder: (https://binarybuilder.org/) --> Sandboxed cross-compiler\n",
        "- Yggdrasil: (https://github.com/JuliaPackaging/Yggdrasil/) --> Collection of build recipes"
      ]
    },
    {
      "cell_type": "markdown",
      "id": "905b64e4",
      "metadata": {
        "id": "905b64e4"
      },
      "source": [
        "## Interfacing with C and Fortran libraries\n",
        "\n",
        "* Julia has **direct support for foreign function calls**\n",
        "\n",
        "* [`@ccall`](https://docs.julialang.org/en/v1/base/c/#Base.@ccall) → call C/Fortran directly\n",
        "* [`@cfunction`](https://docs.julialang.org/en/v1/base/c/#Base.@cfunction) → expose Julia functions as C callbacks\n",
        "* Automatic wrapper generation with [Clang.jl](https://github.com/JuliaInterop/Clang.jl)\n",
        "* ⚠️ Careful with garbage collection when passing pointers!"
      ]
    },
    {
      "cell_type": "code",
      "execution_count": 1,
      "id": "1e4e7066",
      "metadata": {
        "id": "1e4e7066",
        "outputId": "9fc23115-c873-47f9-f8b3-d51281456703",
        "colab": {
          "base_uri": "https://localhost:8080/"
        }
      },
      "outputs": [
        {
          "output_type": "execute_result",
          "data": {
            "text/plain": [
              "3×3 Matrix{Float64}:\n",
              " 1.12422   0.873173  0.747676\n",
              " 0.840241  0.656566  0.567284\n",
              " 0.974081  0.515861  0.532003"
            ]
          },
          "metadata": {},
          "execution_count": 1
        }
      ],
      "source": [
        "using LinearAlgebra\n",
        "import LinearAlgebra.BLAS.libblas\n",
        "\n",
        "function dgemm(transa, transb, m, n, k, alpha, A, lda, B, ldb, beta, C, ldc)\n",
        "    return @ccall libblas.dgemm_64_(transa::Ref{UInt8}, transb::Ref{UInt8},\n",
        "                                    m::Ref{Int64}, n::Ref{Int64}, k::Ref{Int64},\n",
        "                                    alpha::Ref{Float64}, A::Ptr{Float64},\n",
        "                                    lda::Ref{Int64}, B::Ptr{Float64}, ldb::Ref{Int64},\n",
        "                                    beta::Ref{Float64}, C::Ptr{Float64}, ldc::Ref{Int64},\n",
        "                                    1::Clong, 1::Clong)::Cvoid\n",
        "end\n",
        "\n",
        "A = rand(Float64, 3 ,3)\n",
        "B = rand(Float64, 3, 3)\n",
        "C = zeros(Float64, 3, 3)\n",
        "\n",
        "# C = 1.0*A*B + 0.0*C\n",
        "dgemm('N', 'N', 3, 3, 3, 1.0, A, 3, B, 3, 0.0, C, 3)\n",
        "C"
      ]
    },
    {
      "cell_type": "markdown",
      "id": "22be6046",
      "metadata": {
        "id": "22be6046"
      },
      "source": [
        "👉 `*` and `mul!` transparently use the optimized BLAS library."
      ]
    },
    {
      "cell_type": "code",
      "execution_count": 2,
      "id": "fbb2d660",
      "metadata": {
        "id": "fbb2d660",
        "outputId": "9867514c-c7f0-4c1b-f1e6-9d291ab47d51",
        "colab": {
          "base_uri": "https://localhost:8080/"
        }
      },
      "outputs": [
        {
          "output_type": "execute_result",
          "data": {
            "text/plain": [
              "true"
            ]
          },
          "metadata": {},
          "execution_count": 2
        }
      ],
      "source": [
        "D = zeros(Float64, 3, 3)\n",
        "mul!(D, A, B)   # calls BLAS dgemm under the hood\n",
        "D == A*B        # true"
      ]
    },
    {
      "cell_type": "markdown",
      "id": "b1aa68f7",
      "metadata": {
        "id": "b1aa68f7"
      },
      "source": [
        "## Multiple dispatch in action 🚀\n",
        "\n",
        "In Julia, the function that runs depends on the **types of all arguments**:\n"
      ]
    },
    {
      "cell_type": "code",
      "source": [
        "# Same function name, different methods\n",
        "area(radius::Float64) = π * radius^2                 # Circle\n",
        "area(width::Float64, height::Float64) = width*height # Rectangle\n",
        "\n",
        "println(area(3.0))        # uses the circle method\n",
        "println(area(2.0, 5.0))   # uses the rectangle method"
      ],
      "metadata": {
        "id": "xOkeSc4ITdwi",
        "outputId": "f3fb0aeb-5429-4ae3-e0a7-a741ba9916a1",
        "colab": {
          "base_uri": "https://localhost:8080/"
        }
      },
      "id": "xOkeSc4ITdwi",
      "execution_count": 3,
      "outputs": [
        {
          "output_type": "stream",
          "name": "stdout",
          "text": [
            "28.274333882308138\n",
            "10.0\n"
          ]
        }
      ]
    },
    {
      "cell_type": "markdown",
      "id": "62fa623b",
      "metadata": {
        "id": "62fa623b"
      },
      "source": [
        "```julia\n",
        "foo(x::Int)     = x^2      # square integers\n",
        "foo(x::Float64) = sqrt(x)  # square-root floats\n",
        "\n",
        "println(foo(4))    # → 16 (square)\n",
        "println(foo(9.0))  # → 3.0 (square root)\n",
        "```"
      ]
    },
    {
      "cell_type": "markdown",
      "source": [
        "👉 Julia picks the right version automatically."
      ],
      "metadata": {
        "id": "smiuGNMtTjO-"
      },
      "id": "smiuGNMtTjO-"
    },
    {
      "cell_type": "code",
      "source": [],
      "metadata": {
        "id": "U5y0HMcDJKOr"
      },
      "id": "U5y0HMcDJKOr",
      "execution_count": null,
      "outputs": []
    },
    {
      "cell_type": "markdown",
      "id": "591da5b8",
      "metadata": {
        "id": "591da5b8"
      },
      "source": [
        "### Works with user-defined types\n",
        "\n"
      ]
    },
    {
      "cell_type": "code",
      "source": [
        "abstract type NumberLike end\n",
        "\n",
        "struct Dual{T<:Real} <: NumberLike\n",
        "    primal::T\n",
        "    tangent::T\n",
        "end\n",
        "\n",
        "# Define + for Dual numbers\n",
        "Base.:+(x::Dual, y::Dual) = Dual(x.primal + y.primal,\n",
        "                                 x.tangent + y.tangent)\n",
        "\n",
        "println(Dual(1.0, 2.0) + Dual(3.0, 4.0))"
      ],
      "metadata": {
        "id": "98T1aNcyTxTZ",
        "outputId": "4bcefdae-5700-4cb4-abb3-52166bbd366e",
        "colab": {
          "base_uri": "https://localhost:8080/"
        }
      },
      "id": "98T1aNcyTxTZ",
      "execution_count": 4,
      "outputs": [
        {
          "output_type": "stream",
          "name": "stdout",
          "text": [
            "Dual{Float64}(4.0, 6.0)\n"
          ]
        }
      ]
    },
    {
      "cell_type": "markdown",
      "source": [
        "👉 Here we added a new “kind of number” (`Dual`), and Julia’s multiple dispatch makes it work seamlessly with operators like `+`.\n",
        "\n",
        "\n",
        "\n"
      ],
      "metadata": {
        "id": "JGMR2_kFToPr"
      },
      "id": "JGMR2_kFToPr"
    },
    {
      "cell_type": "markdown",
      "id": "3581033f",
      "metadata": {
        "id": "3581033f"
      },
      "source": [
        "## Compilation of a dynamic language.\n",
        "\n",
        "Julia's compiler uses LLVM, a widely used open-source tool that helps turn code into fast machine instructions.\n",
        "\n",
        "<img src=\"https://github.com/amontoison/Workshop-GERAD/blob/main/Graphics/llvm.png?raw=1\" width=500px>"
      ]
    },
    {
      "cell_type": "markdown",
      "id": "9ea18a92",
      "metadata": {
        "id": "9ea18a92"
      },
      "source": [
        "### How Julia turns code into machine instructions\n",
        "\n",
        "1. **Parsing** → read your code and turn it into a syntax tree\n",
        "2. **Lowering** → simplify the syntax tree into a more uniform form\n",
        "3. **Type inference** → guess the types of variables and expressions\n",
        "4. **High-level optimizations** → improve the code while it’s still in Julia’s own form\n",
        "5. **Code generation** → translate Julia code into LLVM IR (an intermediate language)\n",
        "6. **LLVM optimizations** → LLVM applies many generic optimizations\n",
        "7. **LLVM backend** → LLVM translates IR into machine code for your CPU/GPU\n",
        "8. **Native code** → final executable instructions that run on your computer"
      ]
    },
    {
      "cell_type": "code",
      "execution_count": 5,
      "id": "25165145",
      "metadata": {
        "id": "25165145",
        "outputId": "e8f0e300-e72d-46ac-bdb0-546312fd7845",
        "colab": {
          "base_uri": "https://localhost:8080/"
        }
      },
      "outputs": [
        {
          "output_type": "stream",
          "name": "stdout",
          "text": [
            "Expr\n",
            "  head: Symbol call\n",
            "  args: Array{Any}((3,))\n",
            "    1: Symbol +\n",
            "    2: Float64 1.0\n",
            "    3: Float64 2.0\n"
          ]
        }
      ],
      "source": [
        "Meta.@dump 1.0 + 2.0"
      ]
    },
    {
      "cell_type": "code",
      "execution_count": 7,
      "id": "5921a87f",
      "metadata": {
        "id": "5921a87f",
        "outputId": "ef554556-b8c5-4f4f-b89d-645578b1a693",
        "colab": {
          "base_uri": "https://localhost:8080/"
        }
      },
      "outputs": [
        {
          "output_type": "execute_result",
          "data": {
            "text/plain": [
              "CodeInfo(\n",
              "\u001b[90m1 ─\u001b[39m %1 = Base.add_float\u001b[36m::Core.Const(Core.Intrinsics.add_float)\u001b[39m\n",
              "\u001b[90m│  \u001b[39m %2 = (%1)(x, y)\u001b[36m::Float64\u001b[39m\n",
              "\u001b[90m└──\u001b[39m      return %2\n",
              ") => Float64"
            ]
          },
          "metadata": {},
          "execution_count": 7
        }
      ],
      "source": [
        "@code_typed optimize=false 1.0 + 2.0"
      ]
    },
    {
      "cell_type": "code",
      "execution_count": 8,
      "id": "4b116e1c",
      "metadata": {
        "id": "4b116e1c",
        "outputId": "52560315-299c-47ae-e936-2a43083ebda6",
        "colab": {
          "base_uri": "https://localhost:8080/"
        }
      },
      "outputs": [
        {
          "output_type": "execute_result",
          "data": {
            "text/plain": [
              "CodeInfo(\n",
              "\u001b[90m1 ─\u001b[39m %1 = Base.add_float\n",
              "\u001b[90m│  \u001b[39m %2 = (%1)(x, y)\n",
              "\u001b[90m└──\u001b[39m      return %2\n",
              ")"
            ]
          },
          "metadata": {},
          "execution_count": 8
        }
      ],
      "source": [
        "@code_lowered 1.0 + 2.0"
      ]
    },
    {
      "cell_type": "code",
      "execution_count": 9,
      "id": "eeed612e",
      "metadata": {
        "id": "eeed612e",
        "outputId": "941749eb-ea23-46e7-9b3d-3e36fb0aa8ae",
        "colab": {
          "base_uri": "https://localhost:8080/"
        }
      },
      "outputs": [
        {
          "output_type": "stream",
          "name": "stdout",
          "text": [
            "MethodInstance for +(::Float64, ::Float64)\n",
            "  from +(\u001b[90mx\u001b[39m::\u001b[1mT\u001b[22m, \u001b[90my\u001b[39m::\u001b[1mT\u001b[22m) where T<:Union{Float16, Float32, Float64}\u001b[90m @\u001b[39m \u001b[90mBase\u001b[39m \u001b[90m\u001b[4mfloat.jl:491\u001b[24m\u001b[39m\n",
            "Static Parameters\n",
            "  T = \u001b[36mFloat64\u001b[39m\n",
            "Arguments\n",
            "  #self#\u001b[36m::Core.Const(+)\u001b[39m\n",
            "  x\u001b[36m::Float64\u001b[39m\n",
            "  y\u001b[36m::Float64\u001b[39m\n",
            "Body\u001b[36m::Float64\u001b[39m\n",
            "\u001b[90m1 ─\u001b[39m %1 = Base.add_float\u001b[36m::Core.Const(Core.Intrinsics.add_float)\u001b[39m\n",
            "\u001b[90m│  \u001b[39m %2 = (%1)(x, y)\u001b[36m::Float64\u001b[39m\n",
            "\u001b[90m└──\u001b[39m      return %2\n",
            "\n"
          ]
        }
      ],
      "source": [
        "@code_warntype 1.0 + 2.0"
      ]
    },
    {
      "cell_type": "code",
      "execution_count": 10,
      "id": "dc700819",
      "metadata": {
        "id": "dc700819",
        "outputId": "d4edc793-5b53-4ba2-fdb9-bc791d96a99b",
        "colab": {
          "base_uri": "https://localhost:8080/"
        }
      },
      "outputs": [
        {
          "output_type": "stream",
          "name": "stdout",
          "text": [
            "\u001b[90m; Function Signature: +(Float64, Float64)\u001b[39m\n",
            "\u001b[95mdefine\u001b[39m \u001b[36mdouble\u001b[39m \u001b[93m@\"julia_+_7172\"\u001b[39m\u001b[33m(\u001b[39m\u001b[36mdouble\u001b[39m \u001b[0m%\"x::Float64\"\u001b[0m, \u001b[36mdouble\u001b[39m \u001b[0m%\"y::Float64\"\u001b[33m)\u001b[39m \u001b[0m#0 \u001b[33m{\u001b[39m\n",
            "\u001b[91mtop:\u001b[39m\n",
            "  \u001b[0m%0 \u001b[0m= \u001b[96m\u001b[1mfadd\u001b[22m\u001b[39m \u001b[36mdouble\u001b[39m \u001b[0m%\"x::Float64\"\u001b[0m, \u001b[0m%\"y::Float64\"\n",
            "  \u001b[96m\u001b[1mret\u001b[22m\u001b[39m \u001b[36mdouble\u001b[39m \u001b[0m%0\n",
            "\u001b[33m}\u001b[39m\n"
          ]
        }
      ],
      "source": [
        "@code_llvm debuginfo=:none 1.0 + 2.0"
      ]
    },
    {
      "cell_type": "code",
      "execution_count": 11,
      "id": "03d0e868",
      "metadata": {
        "id": "03d0e868",
        "outputId": "c918fc08-f857-4dc5-c99d-f753a5d5a986",
        "colab": {
          "base_uri": "https://localhost:8080/"
        }
      },
      "outputs": [
        {
          "output_type": "stream",
          "name": "stdout",
          "text": [
            "\t\u001b[0m.text\n",
            "\t\u001b[0m.file\t\u001b[0m\"+\"\n",
            "\t\u001b[0m.globl\t\u001b[0m\"julia_+_7348\"                  \u001b[90m# -- Begin function julia_+_7348\u001b[39m\n",
            "\t\u001b[0m.p2align\t\u001b[33m4\u001b[39m\u001b[0m, \u001b[33m0x90\u001b[39m\n",
            "\t\u001b[0m.type\t\u001b[0m\"julia_+_7348\"\u001b[0m,\u001b[0m@function\n",
            "\u001b[91m\"julia_+_7348\":\u001b[39m                         \u001b[90m# @\"julia_+_7348\"\u001b[39m\n",
            "\u001b[90m; Function Signature: +(Float64, Float64)\u001b[39m\n",
            "\u001b[90m; ┌ @ float.jl:491 within `+`\u001b[39m\n",
            "\u001b[90m# %bb.0:                                # %top\u001b[39m\n",
            "\u001b[90m; │ @ float.jl within `+`\u001b[39m\n",
            "\t\u001b[91m#DEBUG_VALUE:\u001b[39m \u001b[0m+\u001b[0m:\u001b[0mx \u001b[0m<- \u001b[93m$xmm0\u001b[39m\n",
            "\t\u001b[91m#DEBUG_VALUE:\u001b[39m \u001b[0m+\u001b[0m:\u001b[0my \u001b[0m<- \u001b[93m$xmm1\u001b[39m\n",
            "\t\u001b[96m\u001b[1mpush\u001b[22m\u001b[39m\t\u001b[0mrbp\n",
            "\t\u001b[96m\u001b[1mmov\u001b[22m\u001b[39m\t\u001b[0mrbp\u001b[0m, \u001b[0mrsp\n",
            "\u001b[90m; │ @ float.jl:491 within `+`\u001b[39m\n",
            "\t\u001b[96m\u001b[1mvaddsd\u001b[22m\u001b[39m\t\u001b[0mxmm0\u001b[0m, \u001b[0mxmm0\u001b[0m, \u001b[0mxmm1\n",
            "\t\u001b[96m\u001b[1mpop\u001b[22m\u001b[39m\t\u001b[0mrbp\n",
            "\t\u001b[96m\u001b[1mret\u001b[22m\u001b[39m\n",
            "\u001b[91m.Lfunc_end0:\u001b[39m\n",
            "\t\u001b[0m.size\t\u001b[0m\"julia_+_7348\"\u001b[0m, \u001b[0m.Lfunc_end0-\"julia_+_7348\"\n",
            "\u001b[90m; └\u001b[39m\n",
            "                                        \u001b[90m# -- End function\u001b[39m\n",
            "\t\u001b[0m.type\t\u001b[0m\".L+Core.Float64#7350\"\u001b[0m,\u001b[0m@object  \u001b[90m# @\"+Core.Float64#7350\"\u001b[39m\n",
            "\t\u001b[0m.section\t\u001b[0m.rodata\u001b[0m,\u001b[0m\"a\"\u001b[0m,\u001b[0m@progbits\n",
            "\t\u001b[0m.p2align\t\u001b[33m3\u001b[39m\u001b[0m, \u001b[33m0x0\u001b[39m\n",
            "\u001b[91m\".L+Core.Float64#7350\":\u001b[39m\n",
            "\t\u001b[0m.quad\t\u001b[0m\".L+Core.Float64#7350.jit\"\n",
            "\t\u001b[0m.size\t\u001b[0m\".L+Core.Float64#7350\"\u001b[0m, \u001b[33m8\u001b[39m\n",
            "\n",
            "\u001b[0m.set \u001b[0m\".L+Core.Float64#7350.jit\"\u001b[0m, \u001b[33m133439688337552\u001b[39m\n",
            "\t\u001b[0m.size\t\u001b[0m\".L+Core.Float64#7350.jit\"\u001b[0m, \u001b[33m8\u001b[39m\n",
            "\t\u001b[0m.section\t\u001b[0m\".note.GNU-stack\"\u001b[0m,\u001b[0m\"\"\u001b[0m,\u001b[0m@progbits\n"
          ]
        }
      ],
      "source": [
        "@code_native 1.0 + 2.0"
      ]
    }
  ],
  "metadata": {
    "kernelspec": {
      "display_name": "Julia",
      "name": "julia"
    },
    "colab": {
      "provenance": [],
      "gpuType": "T4",
      "include_colab_link": true
    },
    "language_info": {
      "name": "julia"
    },
    "accelerator": "GPU"
  },
  "nbformat": 4,
  "nbformat_minor": 5
}